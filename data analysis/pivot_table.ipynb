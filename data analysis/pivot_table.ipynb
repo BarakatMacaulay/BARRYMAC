{
 "cells": [
  {
   "cell_type": "code",
   "execution_count": 59,
   "metadata": {},
   "outputs": [],
   "source": [
    "# importing libraries\n",
    "import pandas as pd\n",
    "import matplotlib.pyplot as plt\n",
    "\n",
    "# load data\n",
    "df = pd.read_csv('/Users/macbook/Desktop/BARRYMAC/data analysis/data_jobs.csv')\n",
    "\n",
    "# data cleanup\n",
    "df['job_posted_date'] = pd.to_datetime(df.job_posted_date)"
   ]
  },
  {
   "cell_type": "code",
   "execution_count": 60,
   "metadata": {},
   "outputs": [],
   "source": [
    "# df.pivot_table(values= 'salary_year_avg', index='job_country', columns='job_title_short',aggfunc='median')"
   ]
  },
  {
   "cell_type": "code",
   "execution_count": 61,
   "metadata": {},
   "outputs": [],
   "source": [
    "# df.groupby('job_title_short')['salary_year_avg'].median()"
   ]
  },
  {
   "cell_type": "code",
   "execution_count": 62,
   "metadata": {},
   "outputs": [],
   "source": [
    "# top_countries = df['job_country'].value_counts().head(6).index\n",
    "# df_job_country_salary = df.pivot_table(\n",
    "#     values= 'salary_year_avg',\n",
    "#     index='job_country',\n",
    "#     columns='job_title_short',\n",
    "#     aggfunc='median'\n",
    "# )\n",
    "# df_job_country_salary = df_job_country_salary.loc[top_countries]\n",
    "# job_titles = ['Data Analyst','Data Engineer','Data Scientist']\n",
    "# df_job_country_salary = df_job_country_salary[job_titles]\n",
    "\n",
    "# df_job_country_salary.plot(kind='bar')\n",
    "# plt.ylabel('Median Salary (SUSD)')\n",
    "# plt.xlabel('')\n",
    "# plt.title('Median Salary by County and Job Title')\n",
    "# plt.xticks(rotation=45, ha='right')\n",
    "# plt.show()"
   ]
  },
  {
   "cell_type": "code",
   "execution_count": 63,
   "metadata": {},
   "outputs": [],
   "source": [
    "# df.sample(5)"
   ]
  },
  {
   "cell_type": "code",
   "execution_count": 64,
   "metadata": {},
   "outputs": [],
   "source": [
    "# df.index\n",
    "# df_usa = df[df['job_country']=='United States']\n",
    "# df_usa.reset_index(inplace=True)\n",
    "# df_usa"
   ]
  },
  {
   "cell_type": "code",
   "execution_count": 65,
   "metadata": {},
   "outputs": [],
   "source": [
    "# df_usa.set_index('index', inplace=True)\n"
   ]
  },
  {
   "cell_type": "code",
   "execution_count": 66,
   "metadata": {},
   "outputs": [],
   "source": [
    "# df_usa"
   ]
  },
  {
   "cell_type": "code",
   "execution_count": 67,
   "metadata": {},
   "outputs": [],
   "source": [
    "# median_pivot = df_usa.pivot_table(values='salary_year_avg', index='job_title_short', aggfunc=['median','min','max'])"
   ]
  },
  {
   "cell_type": "code",
   "execution_count": 68,
   "metadata": {},
   "outputs": [],
   "source": [
    "# median_pivot"
   ]
  },
  {
   "cell_type": "code",
   "execution_count": 69,
   "metadata": {},
   "outputs": [],
   "source": [
    "# median_pivot.sort_values(by=('median','salary_year_avg'), ascending=False)"
   ]
  },
  {
   "cell_type": "code",
   "execution_count": 70,
   "metadata": {},
   "outputs": [],
   "source": [
    "# median_pivot.sort_index(inplace=True)"
   ]
  },
  {
   "cell_type": "code",
   "execution_count": 71,
   "metadata": {},
   "outputs": [],
   "source": [
    "# median_pivot"
   ]
  },
  {
   "cell_type": "code",
   "execution_count": 101,
   "metadata": {},
   "outputs": [],
   "source": [
    "df_USA = df[df['job_country']=='United States'].copy()"
   ]
  },
  {
   "cell_type": "code",
   "execution_count": 102,
   "metadata": {},
   "outputs": [],
   "source": [
    "# df_USA"
   ]
  },
  {
   "cell_type": "code",
   "execution_count": 106,
   "metadata": {},
   "outputs": [],
   "source": [
    "df_USA['job_posted_month'] = df_USA['job_posted_date'].dt.strftime('%B')"
   ]
  },
  {
   "cell_type": "code",
   "execution_count": 107,
   "metadata": {},
   "outputs": [],
   "source": [
    "df_USA_PIVOT = df_USA.pivot_table(index='job_posted_month', columns='job_title_short', aggfunc='size')"
   ]
  },
  {
   "cell_type": "code",
   "execution_count": 108,
   "metadata": {},
   "outputs": [],
   "source": [
    "df_USA_PIVOT.reset_index(inplace=True)\n",
    "df_USA_PIVOT['month_no'] = pd.to_datetime(df_USA_PIVOT ['job_posted_month'], format='%B').dt.month\n",
    "df_USA_PIVOT.sort_values('month_no', inplace = True)\n",
    "df_USA_PIVOT.set_index('job_posted_month', inplace = True)\n",
    "df_USA_PIVOT.drop(columns='month_no', inplace = True)"
   ]
  },
  {
   "cell_type": "code",
   "execution_count": 79,
   "metadata": {},
   "outputs": [
    {
     "data": {
      "text/html": [
       "<div>\n",
       "<style scoped>\n",
       "    .dataframe tbody tr th:only-of-type {\n",
       "        vertical-align: middle;\n",
       "    }\n",
       "\n",
       "    .dataframe tbody tr th {\n",
       "        vertical-align: top;\n",
       "    }\n",
       "\n",
       "    .dataframe thead th {\n",
       "        text-align: right;\n",
       "    }\n",
       "</style>\n",
       "<table border=\"1\" class=\"dataframe\">\n",
       "  <thead>\n",
       "    <tr style=\"text-align: right;\">\n",
       "      <th>job_title_short</th>\n",
       "      <th>level_0</th>\n",
       "      <th>index</th>\n",
       "      <th>Business Analyst</th>\n",
       "      <th>Cloud Engineer</th>\n",
       "      <th>Data Analyst</th>\n",
       "      <th>Data Engineer</th>\n",
       "      <th>Data Scientist</th>\n",
       "      <th>Machine Learning Engineer</th>\n",
       "      <th>Senior Data Analyst</th>\n",
       "      <th>Senior Data Engineer</th>\n",
       "      <th>Senior Data Scientist</th>\n",
       "      <th>Software Engineer</th>\n",
       "    </tr>\n",
       "    <tr>\n",
       "      <th>job_posted_month</th>\n",
       "      <th></th>\n",
       "      <th></th>\n",
       "      <th></th>\n",
       "      <th></th>\n",
       "      <th></th>\n",
       "      <th></th>\n",
       "      <th></th>\n",
       "      <th></th>\n",
       "      <th></th>\n",
       "      <th></th>\n",
       "      <th></th>\n",
       "      <th></th>\n",
       "    </tr>\n",
       "  </thead>\n",
       "  <tbody>\n",
       "    <tr>\n",
       "      <th>January</th>\n",
       "      <td>0</td>\n",
       "      <td>4</td>\n",
       "      <td>527</td>\n",
       "      <td>36</td>\n",
       "      <td>8494</td>\n",
       "      <td>2655</td>\n",
       "      <td>6915</td>\n",
       "      <td>60</td>\n",
       "      <td>1544</td>\n",
       "      <td>773</td>\n",
       "      <td>1552</td>\n",
       "      <td>114</td>\n",
       "    </tr>\n",
       "    <tr>\n",
       "      <th>February</th>\n",
       "      <td>1</td>\n",
       "      <td>3</td>\n",
       "      <td>447</td>\n",
       "      <td>24</td>\n",
       "      <td>6124</td>\n",
       "      <td>3060</td>\n",
       "      <td>4956</td>\n",
       "      <td>56</td>\n",
       "      <td>1258</td>\n",
       "      <td>878</td>\n",
       "      <td>1127</td>\n",
       "      <td>90</td>\n",
       "    </tr>\n",
       "    <tr>\n",
       "      <th>March</th>\n",
       "      <td>2</td>\n",
       "      <td>7</td>\n",
       "      <td>438</td>\n",
       "      <td>19</td>\n",
       "      <td>6218</td>\n",
       "      <td>3183</td>\n",
       "      <td>4779</td>\n",
       "      <td>59</td>\n",
       "      <td>1114</td>\n",
       "      <td>829</td>\n",
       "      <td>1150</td>\n",
       "      <td>115</td>\n",
       "    </tr>\n",
       "    <tr>\n",
       "      <th>April</th>\n",
       "      <td>3</td>\n",
       "      <td>0</td>\n",
       "      <td>565</td>\n",
       "      <td>40</td>\n",
       "      <td>6049</td>\n",
       "      <td>2801</td>\n",
       "      <td>4867</td>\n",
       "      <td>51</td>\n",
       "      <td>1025</td>\n",
       "      <td>781</td>\n",
       "      <td>991</td>\n",
       "      <td>112</td>\n",
       "    </tr>\n",
       "    <tr>\n",
       "      <th>May</th>\n",
       "      <td>4</td>\n",
       "      <td>8</td>\n",
       "      <td>279</td>\n",
       "      <td>20</td>\n",
       "      <td>4993</td>\n",
       "      <td>2976</td>\n",
       "      <td>4377</td>\n",
       "      <td>49</td>\n",
       "      <td>839</td>\n",
       "      <td>746</td>\n",
       "      <td>914</td>\n",
       "      <td>90</td>\n",
       "    </tr>\n",
       "    <tr>\n",
       "      <th>June</th>\n",
       "      <td>5</td>\n",
       "      <td>6</td>\n",
       "      <td>446</td>\n",
       "      <td>32</td>\n",
       "      <td>5683</td>\n",
       "      <td>2893</td>\n",
       "      <td>4645</td>\n",
       "      <td>48</td>\n",
       "      <td>1009</td>\n",
       "      <td>812</td>\n",
       "      <td>1033</td>\n",
       "      <td>93</td>\n",
       "    </tr>\n",
       "    <tr>\n",
       "      <th>July</th>\n",
       "      <td>6</td>\n",
       "      <td>5</td>\n",
       "      <td>581</td>\n",
       "      <td>39</td>\n",
       "      <td>5201</td>\n",
       "      <td>2570</td>\n",
       "      <td>4876</td>\n",
       "      <td>65</td>\n",
       "      <td>883</td>\n",
       "      <td>747</td>\n",
       "      <td>1095</td>\n",
       "      <td>153</td>\n",
       "    </tr>\n",
       "    <tr>\n",
       "      <th>August</th>\n",
       "      <td>7</td>\n",
       "      <td>1</td>\n",
       "      <td>903</td>\n",
       "      <td>39</td>\n",
       "      <td>6634</td>\n",
       "      <td>3269</td>\n",
       "      <td>6318</td>\n",
       "      <td>68</td>\n",
       "      <td>1186</td>\n",
       "      <td>903</td>\n",
       "      <td>1515</td>\n",
       "      <td>194</td>\n",
       "    </tr>\n",
       "    <tr>\n",
       "      <th>September</th>\n",
       "      <td>8</td>\n",
       "      <td>11</td>\n",
       "      <td>897</td>\n",
       "      <td>50</td>\n",
       "      <td>4639</td>\n",
       "      <td>3224</td>\n",
       "      <td>4568</td>\n",
       "      <td>113</td>\n",
       "      <td>805</td>\n",
       "      <td>775</td>\n",
       "      <td>1014</td>\n",
       "      <td>228</td>\n",
       "    </tr>\n",
       "    <tr>\n",
       "      <th>October</th>\n",
       "      <td>9</td>\n",
       "      <td>10</td>\n",
       "      <td>932</td>\n",
       "      <td>48</td>\n",
       "      <td>5271</td>\n",
       "      <td>3015</td>\n",
       "      <td>4882</td>\n",
       "      <td>101</td>\n",
       "      <td>871</td>\n",
       "      <td>672</td>\n",
       "      <td>987</td>\n",
       "      <td>219</td>\n",
       "    </tr>\n",
       "    <tr>\n",
       "      <th>November</th>\n",
       "      <td>10</td>\n",
       "      <td>9</td>\n",
       "      <td>719</td>\n",
       "      <td>36</td>\n",
       "      <td>4531</td>\n",
       "      <td>2793</td>\n",
       "      <td>4175</td>\n",
       "      <td>132</td>\n",
       "      <td>656</td>\n",
       "      <td>684</td>\n",
       "      <td>816</td>\n",
       "      <td>194</td>\n",
       "    </tr>\n",
       "    <tr>\n",
       "      <th>December</th>\n",
       "      <td>11</td>\n",
       "      <td>2</td>\n",
       "      <td>648</td>\n",
       "      <td>40</td>\n",
       "      <td>3979</td>\n",
       "      <td>2641</td>\n",
       "      <td>3472</td>\n",
       "      <td>119</td>\n",
       "      <td>601</td>\n",
       "      <td>689</td>\n",
       "      <td>752</td>\n",
       "      <td>212</td>\n",
       "    </tr>\n",
       "  </tbody>\n",
       "</table>\n",
       "</div>"
      ],
      "text/plain": [
       "job_title_short   level_0  index  Business Analyst  Cloud Engineer  \\\n",
       "job_posted_month                                                     \n",
       "January                 0      4               527              36   \n",
       "February                1      3               447              24   \n",
       "March                   2      7               438              19   \n",
       "April                   3      0               565              40   \n",
       "May                     4      8               279              20   \n",
       "June                    5      6               446              32   \n",
       "July                    6      5               581              39   \n",
       "August                  7      1               903              39   \n",
       "September               8     11               897              50   \n",
       "October                 9     10               932              48   \n",
       "November               10      9               719              36   \n",
       "December               11      2               648              40   \n",
       "\n",
       "job_title_short   Data Analyst  Data Engineer  Data Scientist  \\\n",
       "job_posted_month                                                \n",
       "January                   8494           2655            6915   \n",
       "February                  6124           3060            4956   \n",
       "March                     6218           3183            4779   \n",
       "April                     6049           2801            4867   \n",
       "May                       4993           2976            4377   \n",
       "June                      5683           2893            4645   \n",
       "July                      5201           2570            4876   \n",
       "August                    6634           3269            6318   \n",
       "September                 4639           3224            4568   \n",
       "October                   5271           3015            4882   \n",
       "November                  4531           2793            4175   \n",
       "December                  3979           2641            3472   \n",
       "\n",
       "job_title_short   Machine Learning Engineer  Senior Data Analyst  \\\n",
       "job_posted_month                                                   \n",
       "January                                  60                 1544   \n",
       "February                                 56                 1258   \n",
       "March                                    59                 1114   \n",
       "April                                    51                 1025   \n",
       "May                                      49                  839   \n",
       "June                                     48                 1009   \n",
       "July                                     65                  883   \n",
       "August                                   68                 1186   \n",
       "September                               113                  805   \n",
       "October                                 101                  871   \n",
       "November                                132                  656   \n",
       "December                                119                  601   \n",
       "\n",
       "job_title_short   Senior Data Engineer  Senior Data Scientist  \\\n",
       "job_posted_month                                                \n",
       "January                            773                   1552   \n",
       "February                           878                   1127   \n",
       "March                              829                   1150   \n",
       "April                              781                    991   \n",
       "May                                746                    914   \n",
       "June                               812                   1033   \n",
       "July                               747                   1095   \n",
       "August                             903                   1515   \n",
       "September                          775                   1014   \n",
       "October                            672                    987   \n",
       "November                           684                    816   \n",
       "December                           689                    752   \n",
       "\n",
       "job_title_short   Software Engineer  \n",
       "job_posted_month                     \n",
       "January                         114  \n",
       "February                         90  \n",
       "March                           115  \n",
       "April                           112  \n",
       "May                              90  \n",
       "June                             93  \n",
       "July                            153  \n",
       "August                          194  \n",
       "September                       228  \n",
       "October                         219  \n",
       "November                        194  \n",
       "December                        212  "
      ]
     },
     "execution_count": 79,
     "metadata": {},
     "output_type": "execute_result"
    }
   ],
   "source": [
    "df_USA_PIVOT"
   ]
  },
  {
   "cell_type": "code",
   "execution_count": 80,
   "metadata": {},
   "outputs": [
    {
     "data": {
      "text/plain": [
       "<Axes: xlabel='job_posted_month'>"
      ]
     },
     "execution_count": 80,
     "metadata": {},
     "output_type": "execute_result"
    },
    {
     "data": {
      "image/png": "[encoded data removed]",
      "text/plain": [
       "<Figure size 640x480 with 1 Axes>"
      ]
     },
     "metadata": {},
     "output_type": "display_data"
    }
   ],
   "source": [
    "df_USA_PIVOT.plot(kind='line')"
   ]
  },
  {
   "cell_type": "code",
   "execution_count": 85,
   "metadata": {},
   "outputs": [],
   "source": [
    "top_3 = df_USA['job_title_short'].value_counts().head(3)\n",
    "top_3=top_3.index.tolist()\n"
   ]
  },
  {
   "cell_type": "code",
   "execution_count": 87,
   "metadata": {},
   "outputs": [
    {
     "data": {
      "image/png": "[encoded data removed]",
      "text/plain": [
       "<Figure size 640x480 with 1 Axes>"
      ]
     },
     "metadata": {},
     "output_type": "display_data"
    }
   ],
   "source": [
    "df_USA_PIVOT[top_3].plot(kind='line')\n",
    "plt.title('Monthly Job Posting for Top Data Jobs in the USA')\n",
    "plt.ylabel('Job Count')\n",
    "plt.xlabel('2023')\n",
    "plt.legend()\n",
    "plt.show()\n"
   ]
  },
  {
   "cell_type": "code",
   "execution_count": 95,
   "metadata": {},
   "outputs": [],
   "source": [
    "job_data = {\n",
    "    'job_id': [1, 2, 3, 4, 5],\n",
    "    'job_title': ['Data Scientist', 'Software Engineer', 'Product Manager', 'Marketing Director', 'HR Manager'],\n",
    "    'company_name': ['Google', 'Microsoft', 'Apple', 'Nike', 'Starbucks'],\n",
    "    'job_location': ['Mountain View, CA', 'Redmond, WA', 'Cupertino, CA', 'Beaverton, OR', 'Seattle, WA']\n",
    "}\n",
    "\n",
    "company_data = {\n",
    "    'company_name': ['Google', 'Microsoft', 'Apple', 'Nike', 'Starbucks'],\n",
    "    'industry': ['Technology', 'Technology', 'Technology', 'Apparel', 'Food & Beverage'],\n",
    "    'company_size': ['100,000+', '100,000+', '100,000+', '75,000+', '346,000+']\n",
    "}\n"
   ]
  },
  {
   "cell_type": "code",
   "execution_count": 96,
   "metadata": {},
   "outputs": [],
   "source": [
    "df_jobs = pd.DataFrame(job_data)\n",
    "df_companies = pd.DataFrame(company_data)"
   ]
  },
  {
   "cell_type": "code",
   "execution_count": 90,
   "metadata": {},
   "outputs": [
    {
     "data": {
      "text/html": [
       "<div>\n",
       "<style scoped>\n",
       "    .dataframe tbody tr th:only-of-type {\n",
       "        vertical-align: middle;\n",
       "    }\n",
       "\n",
       "    .dataframe tbody tr th {\n",
       "        vertical-align: top;\n",
       "    }\n",
       "\n",
       "    .dataframe thead th {\n",
       "        text-align: right;\n",
       "    }\n",
       "</style>\n",
       "<table border=\"1\" class=\"dataframe\">\n",
       "  <thead>\n",
       "    <tr style=\"text-align: right;\">\n",
       "      <th></th>\n",
       "      <th>job_id</th>\n",
       "      <th>job_title</th>\n",
       "      <th>company_name</th>\n",
       "      <th>job_location</th>\n",
       "    </tr>\n",
       "  </thead>\n",
       "  <tbody>\n",
       "    <tr>\n",
       "      <th>0</th>\n",
       "      <td>1</td>\n",
       "      <td>Data Scientist</td>\n",
       "      <td>Google</td>\n",
       "      <td>Mountain View, CA</td>\n",
       "    </tr>\n",
       "    <tr>\n",
       "      <th>1</th>\n",
       "      <td>2</td>\n",
       "      <td>Software Engineer</td>\n",
       "      <td>Microsoft</td>\n",
       "      <td>Redmond, WA</td>\n",
       "    </tr>\n",
       "    <tr>\n",
       "      <th>2</th>\n",
       "      <td>3</td>\n",
       "      <td>Product Manager</td>\n",
       "      <td>Apple</td>\n",
       "      <td>Cupertino, CA</td>\n",
       "    </tr>\n",
       "    <tr>\n",
       "      <th>3</th>\n",
       "      <td>4</td>\n",
       "      <td>Marketing Director</td>\n",
       "      <td>Nike</td>\n",
       "      <td>Beaverton, OR</td>\n",
       "    </tr>\n",
       "    <tr>\n",
       "      <th>4</th>\n",
       "      <td>5</td>\n",
       "      <td>HR Manager</td>\n",
       "      <td>Starbucks</td>\n",
       "      <td>Seattle, WA</td>\n",
       "    </tr>\n",
       "  </tbody>\n",
       "</table>\n",
       "</div>"
      ],
      "text/plain": [
       "   job_id           job_title company_name       job_location\n",
       "0       1      Data Scientist       Google  Mountain View, CA\n",
       "1       2   Software Engineer    Microsoft        Redmond, WA\n",
       "2       3     Product Manager        Apple      Cupertino, CA\n",
       "3       4  Marketing Director         Nike      Beaverton, OR\n",
       "4       5          HR Manager    Starbucks        Seattle, WA"
      ]
     },
     "execution_count": 90,
     "metadata": {},
     "output_type": "execute_result"
    }
   ],
   "source": [
    "df_jobs"
   ]
  },
  {
   "cell_type": "code",
   "execution_count": 97,
   "metadata": {},
   "outputs": [
    {
     "data": {
      "text/html": [
       "<div>\n",
       "<style scoped>\n",
       "    .dataframe tbody tr th:only-of-type {\n",
       "        vertical-align: middle;\n",
       "    }\n",
       "\n",
       "    .dataframe tbody tr th {\n",
       "        vertical-align: top;\n",
       "    }\n",
       "\n",
       "    .dataframe thead th {\n",
       "        text-align: right;\n",
       "    }\n",
       "</style>\n",
       "<table border=\"1\" class=\"dataframe\">\n",
       "  <thead>\n",
       "    <tr style=\"text-align: right;\">\n",
       "      <th></th>\n",
       "      <th>company_name</th>\n",
       "      <th>industry</th>\n",
       "      <th>company_size</th>\n",
       "    </tr>\n",
       "  </thead>\n",
       "  <tbody>\n",
       "    <tr>\n",
       "      <th>0</th>\n",
       "      <td>Google</td>\n",
       "      <td>Technology</td>\n",
       "      <td>100,000+</td>\n",
       "    </tr>\n",
       "    <tr>\n",
       "      <th>1</th>\n",
       "      <td>Microsoft</td>\n",
       "      <td>Technology</td>\n",
       "      <td>100,000+</td>\n",
       "    </tr>\n",
       "    <tr>\n",
       "      <th>2</th>\n",
       "      <td>Apple</td>\n",
       "      <td>Technology</td>\n",
       "      <td>100,000+</td>\n",
       "    </tr>\n",
       "    <tr>\n",
       "      <th>3</th>\n",
       "      <td>Nike</td>\n",
       "      <td>Apparel</td>\n",
       "      <td>75,000+</td>\n",
       "    </tr>\n",
       "    <tr>\n",
       "      <th>4</th>\n",
       "      <td>Starbucks</td>\n",
       "      <td>Food &amp; Beverage</td>\n",
       "      <td>346,000+</td>\n",
       "    </tr>\n",
       "  </tbody>\n",
       "</table>\n",
       "</div>"
      ],
      "text/plain": [
       "  company_name         industry company_size\n",
       "0       Google       Technology     100,000+\n",
       "1    Microsoft       Technology     100,000+\n",
       "2        Apple       Technology     100,000+\n",
       "3         Nike          Apparel      75,000+\n",
       "4    Starbucks  Food & Beverage     346,000+"
      ]
     },
     "execution_count": 97,
     "metadata": {},
     "output_type": "execute_result"
    }
   ],
   "source": [
    "df_companies"
   ]
  },
  {
   "cell_type": "code",
   "execution_count": 99,
   "metadata": {},
   "outputs": [
    {
     "data": {
      "text/html": [
       "<div>\n",
       "<style scoped>\n",
       "    .dataframe tbody tr th:only-of-type {\n",
       "        vertical-align: middle;\n",
       "    }\n",
       "\n",
       "    .dataframe tbody tr th {\n",
       "        vertical-align: top;\n",
       "    }\n",
       "\n",
       "    .dataframe thead th {\n",
       "        text-align: right;\n",
       "    }\n",
       "</style>\n",
       "<table border=\"1\" class=\"dataframe\">\n",
       "  <thead>\n",
       "    <tr style=\"text-align: right;\">\n",
       "      <th></th>\n",
       "      <th>job_id</th>\n",
       "      <th>job_title</th>\n",
       "      <th>company_name</th>\n",
       "      <th>job_location</th>\n",
       "      <th>industry</th>\n",
       "      <th>company_size</th>\n",
       "    </tr>\n",
       "  </thead>\n",
       "  <tbody>\n",
       "    <tr>\n",
       "      <th>0</th>\n",
       "      <td>1</td>\n",
       "      <td>Data Scientist</td>\n",
       "      <td>Google</td>\n",
       "      <td>Mountain View, CA</td>\n",
       "      <td>Technology</td>\n",
       "      <td>100,000+</td>\n",
       "    </tr>\n",
       "    <tr>\n",
       "      <th>1</th>\n",
       "      <td>2</td>\n",
       "      <td>Software Engineer</td>\n",
       "      <td>Microsoft</td>\n",
       "      <td>Redmond, WA</td>\n",
       "      <td>Technology</td>\n",
       "      <td>100,000+</td>\n",
       "    </tr>\n",
       "    <tr>\n",
       "      <th>2</th>\n",
       "      <td>3</td>\n",
       "      <td>Product Manager</td>\n",
       "      <td>Apple</td>\n",
       "      <td>Cupertino, CA</td>\n",
       "      <td>Technology</td>\n",
       "      <td>100,000+</td>\n",
       "    </tr>\n",
       "    <tr>\n",
       "      <th>3</th>\n",
       "      <td>4</td>\n",
       "      <td>Marketing Director</td>\n",
       "      <td>Nike</td>\n",
       "      <td>Beaverton, OR</td>\n",
       "      <td>Apparel</td>\n",
       "      <td>75,000+</td>\n",
       "    </tr>\n",
       "    <tr>\n",
       "      <th>4</th>\n",
       "      <td>5</td>\n",
       "      <td>HR Manager</td>\n",
       "      <td>Starbucks</td>\n",
       "      <td>Seattle, WA</td>\n",
       "      <td>Food &amp; Beverage</td>\n",
       "      <td>346,000+</td>\n",
       "    </tr>\n",
       "  </tbody>\n",
       "</table>\n",
       "</div>"
      ],
      "text/plain": [
       "   job_id           job_title company_name       job_location  \\\n",
       "0       1      Data Scientist       Google  Mountain View, CA   \n",
       "1       2   Software Engineer    Microsoft        Redmond, WA   \n",
       "2       3     Product Manager        Apple      Cupertino, CA   \n",
       "3       4  Marketing Director         Nike      Beaverton, OR   \n",
       "4       5          HR Manager    Starbucks        Seattle, WA   \n",
       "\n",
       "          industry company_size  \n",
       "0       Technology     100,000+  \n",
       "1       Technology     100,000+  \n",
       "2       Technology     100,000+  \n",
       "3          Apparel      75,000+  \n",
       "4  Food & Beverage     346,000+  "
      ]
     },
     "execution_count": 99,
     "metadata": {},
     "output_type": "execute_result"
    }
   ],
   "source": [
    "df_jobs.merge(df_companies, on='company_name')"
   ]
  },
  {
   "cell_type": "code",
   "execution_count": 109,
   "metadata": {},
   "outputs": [],
   "source": [
    "# import ast"
   ]
  },
  {
   "cell_type": "code",
   "execution_count": 110,
   "metadata": {},
   "outputs": [],
   "source": [
    "# df['job_skills'] = df['job_skills'].apply(lambda x: ast.literal_eval(x) if pd.notna(x) else x)"
   ]
  },
  {
   "cell_type": "code",
   "execution_count": 111,
   "metadata": {},
   "outputs": [
    {
     "data": {
      "text/plain": [
       "['r', 'python', 'sql', 'nosql', 'power bi', 'tableau']"
      ]
     },
     "execution_count": 111,
     "metadata": {},
     "output_type": "execute_result"
    }
   ],
   "source": [
    "# df['job_skills'][1]"
   ]
  }
 ],
 "metadata": {
  "kernelspec": {
   "display_name": ".venv",
   "language": "python",
   "name": "python3"
  },
  "language_info": {
   "codemirror_mode": {
    "name": "ipython",
    "version": 3
   },
   "file_extension": ".py",
   "mimetype": "text/x-python",
   "name": "python",
   "nbconvert_exporter": "python",
   "pygments_lexer": "ipython3",
   "version": "3.12.5"
  }
 },
 "nbformat": 4,
 "nbformat_minor": 2
}
